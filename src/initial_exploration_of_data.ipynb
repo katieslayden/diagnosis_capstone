{
 "cells": [
  {
   "cell_type": "markdown",
   "metadata": {},
   "source": [
    "## Imports"
   ]
  },
  {
   "cell_type": "code",
   "execution_count": 1,
   "metadata": {
    "collapsed": true
   },
   "outputs": [],
   "source": [
    "import pandas as pd\n",
    "import numpy as np\n",
    "import matplotlib.pyplot as plt\n",
    "%matplotlib inline"
   ]
  },
  {
   "cell_type": "code",
   "execution_count": 11,
   "metadata": {},
   "outputs": [
    {
     "name": "stdout",
     "output_type": "stream",
     "text": [
      "20240-0001-Codebook.pdf             20240-0001-Setup.dct\r\n",
      "20240-0001-Data.dta                 20240-0001-Setup.do\r\n",
      "20240-0001-Data.sav                 20240-0001-Setup.sas\r\n",
      "20240-0001-Data.stc                 20240-0001-Setup.sps\r\n",
      "20240-0001-Data.tsv                 20240-0001-Supplemental_syntax.do\r\n",
      "20240-0001-Data.txt                 20240-0001-Supplemental_syntax.sas\r\n"
     ]
    }
   ],
   "source": [
    "ls"
   ]
  },
  {
   "cell_type": "code",
   "execution_count": 12,
   "metadata": {},
   "outputs": [
    {
     "data": {
      "text/plain": [
       "'/Users/Winnifred/Desktop/Capstone/ICPSR_20240_RAWDATA/DS0001'"
      ]
     },
     "execution_count": 12,
     "metadata": {},
     "output_type": "execute_result"
    }
   ],
   "source": [
    "pwd"
   ]
  },
  {
   "cell_type": "code",
   "execution_count": 13,
   "metadata": {
    "collapsed": true
   },
   "outputs": [],
   "source": [
    "file_name = '/Users/Winnifred/Desktop/Capstone/ICPSR_20240_RAWDATA/DS0001/20240-0001-Data.tsv'"
   ]
  },
  {
   "cell_type": "markdown",
   "metadata": {},
   "source": [
    "## Data"
   ]
  },
  {
   "cell_type": "code",
   "execution_count": 14,
   "metadata": {
    "collapsed": true
   },
   "outputs": [],
   "source": [
    "df = pd.read_csv(file_name, sep='\\t', low_memory=False)"
   ]
  },
  {
   "cell_type": "code",
   "execution_count": 15,
   "metadata": {},
   "outputs": [
    {
     "data": {
      "text/html": [
       "<div>\n",
       "<style>\n",
       "    .dataframe thead tr:only-child th {\n",
       "        text-align: right;\n",
       "    }\n",
       "\n",
       "    .dataframe thead th {\n",
       "        text-align: left;\n",
       "    }\n",
       "\n",
       "    .dataframe tbody tr th {\n",
       "        vertical-align: top;\n",
       "    }\n",
       "</style>\n",
       "<table border=\"1\" class=\"dataframe\">\n",
       "  <thead>\n",
       "    <tr style=\"text-align: right;\">\n",
       "      <th></th>\n",
       "      <th>CASEID</th>\n",
       "      <th>V07312</th>\n",
       "      <th>V07319</th>\n",
       "      <th>V07320</th>\n",
       "      <th>V09154</th>\n",
       "      <th>V08825</th>\n",
       "      <th>V07477</th>\n",
       "      <th>V07292</th>\n",
       "      <th>V07297</th>\n",
       "      <th>V08249</th>\n",
       "      <th>...</th>\n",
       "      <th>V04611</th>\n",
       "      <th>NCSRWTSH</th>\n",
       "      <th>NCSRWTLG</th>\n",
       "      <th>NCNSWTSH</th>\n",
       "      <th>NCNSWTLG</th>\n",
       "      <th>NCNLWTSH</th>\n",
       "      <th>NCNLWTLG</th>\n",
       "      <th>NSNLWT</th>\n",
       "      <th>CPESWTSH</th>\n",
       "      <th>CPESWTLG</th>\n",
       "    </tr>\n",
       "  </thead>\n",
       "  <tbody>\n",
       "    <tr>\n",
       "      <th>0</th>\n",
       "      <td>1</td>\n",
       "      <td></td>\n",
       "      <td></td>\n",
       "      <td></td>\n",
       "      <td>1</td>\n",
       "      <td>2</td>\n",
       "      <td>0</td>\n",
       "      <td>0</td>\n",
       "      <td>2</td>\n",
       "      <td>2</td>\n",
       "      <td>...</td>\n",
       "      <td></td>\n",
       "      <td></td>\n",
       "      <td></td>\n",
       "      <td></td>\n",
       "      <td></td>\n",
       "      <td>11627.4082</td>\n",
       "      <td>14040.66</td>\n",
       "      <td>15968.9517</td>\n",
       "      <td>11627.3949</td>\n",
       "      <td>14040.6279</td>\n",
       "    </tr>\n",
       "    <tr>\n",
       "      <th>1</th>\n",
       "      <td>2</td>\n",
       "      <td></td>\n",
       "      <td></td>\n",
       "      <td></td>\n",
       "      <td>1</td>\n",
       "      <td>2</td>\n",
       "      <td>0</td>\n",
       "      <td>0</td>\n",
       "      <td>1</td>\n",
       "      <td>1</td>\n",
       "      <td>...</td>\n",
       "      <td></td>\n",
       "      <td></td>\n",
       "      <td></td>\n",
       "      <td></td>\n",
       "      <td></td>\n",
       "      <td>10090.8728</td>\n",
       "      <td>12185.2188</td>\n",
       "      <td>13858.6912</td>\n",
       "      <td>10090.8613</td>\n",
       "      <td>12185.1909</td>\n",
       "    </tr>\n",
       "    <tr>\n",
       "      <th>2</th>\n",
       "      <td>3</td>\n",
       "      <td></td>\n",
       "      <td></td>\n",
       "      <td></td>\n",
       "      <td>3</td>\n",
       "      <td>2</td>\n",
       "      <td>0</td>\n",
       "      <td>0</td>\n",
       "      <td>1</td>\n",
       "      <td>1</td>\n",
       "      <td>...</td>\n",
       "      <td></td>\n",
       "      <td></td>\n",
       "      <td></td>\n",
       "      <td></td>\n",
       "      <td></td>\n",
       "      <td>10090.8728</td>\n",
       "      <td>12185.2188</td>\n",
       "      <td>13858.6912</td>\n",
       "      <td>10090.8613</td>\n",
       "      <td>12185.1909</td>\n",
       "    </tr>\n",
       "    <tr>\n",
       "      <th>3</th>\n",
       "      <td>4</td>\n",
       "      <td></td>\n",
       "      <td></td>\n",
       "      <td></td>\n",
       "      <td>1</td>\n",
       "      <td>9</td>\n",
       "      <td>0</td>\n",
       "      <td>0</td>\n",
       "      <td>2</td>\n",
       "      <td>2</td>\n",
       "      <td>...</td>\n",
       "      <td></td>\n",
       "      <td></td>\n",
       "      <td></td>\n",
       "      <td></td>\n",
       "      <td></td>\n",
       "      <td>5939.8128</td>\n",
       "      <td>6525.4281</td>\n",
       "      <td>7919.7406</td>\n",
       "      <td>5939.8017</td>\n",
       "      <td>6525.416</td>\n",
       "    </tr>\n",
       "    <tr>\n",
       "      <th>4</th>\n",
       "      <td>5</td>\n",
       "      <td></td>\n",
       "      <td></td>\n",
       "      <td></td>\n",
       "      <td>1</td>\n",
       "      <td>6</td>\n",
       "      <td>0</td>\n",
       "      <td>0</td>\n",
       "      <td>1</td>\n",
       "      <td>1</td>\n",
       "      <td>...</td>\n",
       "      <td></td>\n",
       "      <td></td>\n",
       "      <td></td>\n",
       "      <td></td>\n",
       "      <td></td>\n",
       "      <td>4572.4542</td>\n",
       "      <td>5023.2596</td>\n",
       "      <td>6096.5981</td>\n",
       "      <td>4572.4457</td>\n",
       "      <td>5023.2502</td>\n",
       "    </tr>\n",
       "  </tbody>\n",
       "</table>\n",
       "<p>5 rows × 5543 columns</p>\n",
       "</div>"
      ],
      "text/plain": [
       "   CASEID V07312 V07319 V07320 V09154 V08825  V07477  V07292  V07297  V08249  \\\n",
       "0       1                           1      2       0       0       2       2   \n",
       "1       2                           1      2       0       0       1       1   \n",
       "2       3                           3      2       0       0       1       1   \n",
       "3       4                           1      9       0       0       2       2   \n",
       "4       5                           1      6       0       0       1       1   \n",
       "\n",
       "      ...     V04611 NCSRWTSH NCSRWTLG NCNSWTSH NCNSWTLG    NCNLWTSH  \\\n",
       "0     ...                                                 11627.4082   \n",
       "1     ...                                                 10090.8728   \n",
       "2     ...                                                 10090.8728   \n",
       "3     ...                                                  5939.8128   \n",
       "4     ...                                                  4572.4542   \n",
       "\n",
       "     NCNLWTLG      NSNLWT    CPESWTSH    CPESWTLG  \n",
       "0    14040.66  15968.9517  11627.3949  14040.6279  \n",
       "1  12185.2188  13858.6912  10090.8613  12185.1909  \n",
       "2  12185.2188  13858.6912  10090.8613  12185.1909  \n",
       "3   6525.4281   7919.7406   5939.8017    6525.416  \n",
       "4   5023.2596   6096.5981   4572.4457   5023.2502  \n",
       "\n",
       "[5 rows x 5543 columns]"
      ]
     },
     "execution_count": 15,
     "metadata": {},
     "output_type": "execute_result"
    }
   ],
   "source": [
    "df.head()"
   ]
  },
  {
   "cell_type": "code",
   "execution_count": null,
   "metadata": {
    "collapsed": true
   },
   "outputs": [],
   "source": [
    "df = df.set_index('CASEID')"
   ]
  },
  {
   "cell_type": "code",
   "execution_count": null,
   "metadata": {
    "collapsed": true
   },
   "outputs": [],
   "source": [
    "my_features = ['smoker']"
   ]
  },
  {
   "cell_type": "code",
   "execution_count": null,
   "metadata": {
    "collapsed": true
   },
   "outputs": [],
   "source": [
    "df['smoker'] = df.V00232"
   ]
  },
  {
   "cell_type": "code",
   "execution_count": null,
   "metadata": {},
   "outputs": [],
   "source": [
    "df['smoker'].unique()"
   ]
  },
  {
   "cell_type": "code",
   "execution_count": null,
   "metadata": {
    "collapsed": true
   },
   "outputs": [],
   "source": [
    "# write a script that creates new feature columns for my dataframe"
   ]
  },
  {
   "cell_type": "code",
   "execution_count": null,
   "metadata": {},
   "outputs": [],
   "source": [
    "df['smoker']"
   ]
  },
  {
   "cell_type": "code",
   "execution_count": null,
   "metadata": {
    "collapsed": true
   },
   "outputs": [],
   "source": []
  }
 ],
 "metadata": {
  "kernelspec": {
   "display_name": "Python 3",
   "language": "python",
   "name": "python3"
  },
  "language_info": {
   "codemirror_mode": {
    "name": "ipython",
    "version": 3
   },
   "file_extension": ".py",
   "mimetype": "text/x-python",
   "name": "python",
   "nbconvert_exporter": "python",
   "pygments_lexer": "ipython3",
   "version": "3.6.1"
  }
 },
 "nbformat": 4,
 "nbformat_minor": 2
}
